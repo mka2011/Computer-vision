{
 "cells": [
  {
   "cell_type": "code",
   "execution_count": 1,
   "metadata": {},
   "outputs": [],
   "source": [
    "\"\"\"Importing libraries\"\"\"\n",
    "import cv2 \n",
    "import numpy as np"
   ]
  },
  {
   "cell_type": "code",
   "execution_count": 2,
   "metadata": {
    "scrolled": false
   },
   "outputs": [],
   "source": [
    "\"\"\"Importing the video\"\"\"\n",
    "capture = cv2.VideoCapture('input.mp4')\n",
    "\n",
    "\"\"\"Images array store the frame nos\"\"\"\n",
    "images = np.asarray([])\n",
    "ret, frame = capture.read()\n",
    "cap,cap2 = 0,0 \n",
    "start = np.asarray((500,32))\n",
    "\n",
    "\"\"\"Looping through all the frames to find the unique ones, \n",
    "we have used ORB a modified sift method for detection of keypoints in a particular frame\n",
    "and compared those to the other frames keypoints to discover the unique frames.\"\"\"\n",
    "while(ret):\n",
    "    frame = cv2.cvtColor(frame,cv2.COLOR_BGR2GRAY)\n",
    "    \n",
    "    orb = cv2.ORB_create()\n",
    "    kp = orb.detect(frame,None)\n",
    "    kp, des = orb.compute(frame,kp)\n",
    "    \n",
    "    if des is None:\n",
    "        ret, frame = capture.read()\n",
    "        if cap2 == 0:\n",
    "            images = np.append(images,cap2)\n",
    "        if start is not None:\n",
    "            images = np.append(images,cap2)\n",
    "            start = None\n",
    "        cap2 += 1\n",
    "        continue\n",
    "    \n",
    "    if cap == 0 :\n",
    "        start = des\n",
    "        images = np.append(images,cap2)\n",
    "    elif start.shape != des.shape :\n",
    "        s = 0\n",
    "        for i in range(min(start.shape[0],des.shape[0])):\n",
    "            s += np.sum(np.equal(start[i],des[i]))\n",
    "        if s < 150:\n",
    "            start = des\n",
    "            images = np.append(images,cap2)\n",
    "    else:\n",
    "        s = np.sum(np.equal(start,des))\n",
    "        if s < 90:\n",
    "            start = des\n",
    "            images = np.append(images,cap2)\n",
    "    \n",
    "    ret, frame = capture.read()\n",
    "    cap += 1\n",
    "    cap2 += 1"
   ]
  },
  {
   "cell_type": "code",
   "execution_count": 3,
   "metadata": {},
   "outputs": [
    {
     "name": "stdout",
     "output_type": "stream",
     "text": [
      "[  0.   0.   3.  37.  52.  93. 127. 133. 158. 160. 165. 170. 181. 191.\n",
      " 193. 195. 196. 197. 198. 199. 201. 202. 203. 204. 205. 206. 209. 210.\n",
      " 212. 214. 217. 219. 220. 222. 225. 231. 235. 240. 246. 266. 288. 309.\n",
      " 415. 514. 515. 525. 538. 542. 545. 550. 552. 554. 560. 561. 574. 578.\n",
      " 581. 636. 643. 655. 683. 686. 687. 689. 690. 693. 704. 706. 708. 710.\n",
      " 711. 715. 718. 729. 840. 888. 889. 890. 891.]\n"
     ]
    }
   ],
   "source": [
    "\"\"\"Printing all the frames which are distinct\"\"\"\n",
    "print(images)"
   ]
  },
  {
   "cell_type": "code",
   "execution_count": 4,
   "metadata": {},
   "outputs": [],
   "source": [
    "\"\"\"inserting all unique frames previously found in imagesArr for creating the ouptut video\"\"\"\n",
    "capture2 = cv2.VideoCapture('input.mp4')\n",
    "cap = 0\n",
    "ret, frame = capture2.read()\n",
    "imagesArr = []\n",
    "while(ret):\n",
    "    if cap in images:\n",
    "        imagesArr.append(frame)\n",
    "    \n",
    "    ret, frame = capture2.read()\n",
    "    cap += 1"
   ]
  },
  {
   "cell_type": "code",
   "execution_count": 5,
   "metadata": {},
   "outputs": [
    {
     "name": "stdout",
     "output_type": "stream",
     "text": [
      "The total number of frames :  907 \n",
      "The number of unique frames extracted :  78\n"
     ]
    }
   ],
   "source": [
    "\"\"\"The number of unique frames extracted from 907 frames of the input video\"\"\"\n",
    "print(\"The total number of frames : \",cap,\"\\nThe number of unique frames extracted : \",len(imagesArr))"
   ]
  },
  {
   "cell_type": "code",
   "execution_count": 6,
   "metadata": {},
   "outputs": [],
   "source": [
    "\"\"\"initialising the videowriter for creating video\"\"\"\n",
    "height,width,shape = imagesArr[0].shape\n",
    "video = cv2.VideoWriter('output.mp4',-1,8,(width,height))"
   ]
  },
  {
   "cell_type": "code",
   "execution_count": 7,
   "metadata": {},
   "outputs": [],
   "source": [
    "\"\"\"Creating the final output video\"\"\"\n",
    "for i in imagesArr:\n",
    "    video.write(i)\n",
    "video.release()"
   ]
  }
 ],
 "metadata": {
  "kernelspec": {
   "display_name": "Python 3",
   "language": "python",
   "name": "python3"
  },
  "language_info": {
   "codemirror_mode": {
    "name": "ipython",
    "version": 3
   },
   "file_extension": ".py",
   "mimetype": "text/x-python",
   "name": "python",
   "nbconvert_exporter": "python",
   "pygments_lexer": "ipython3",
   "version": "3.7.6"
  }
 },
 "nbformat": 4,
 "nbformat_minor": 4
}
